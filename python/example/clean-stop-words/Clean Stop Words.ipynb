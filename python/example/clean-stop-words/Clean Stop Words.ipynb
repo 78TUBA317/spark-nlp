{
 "cells": [
  {
   "cell_type": "markdown",
   "metadata": {},
   "source": [
    "### Clean Stop Words"
   ]
  },
  {
   "cell_type": "markdown",
   "metadata": {},
   "source": [
    "This pipeline shows how to remove stop words from a text"
   ]
  },
  {
   "cell_type": "code",
   "execution_count": 1,
   "metadata": {},
   "outputs": [],
   "source": [
    "import sys\n",
    "from pyspark.sql import SparkSession\n",
    "\n",
    "sys.path.append(\"/Users/dburbano/IdeaProjects/spark-nlp/python\")\n",
    "spark = SparkSession.builder \\\n",
    "    .appName(\"test\")\\\n",
    "    .master(\"local[4]\")\\\n",
    "    .config(\"spark.driver.memory\",\"4G\")\\\n",
    "    .config(\"spark.driver.maxResultSize\", \"2G\") \\\n",
    "    .config(\"spark.jars\", \"/Users/dburbano/IdeaProjects/spark-nlp/python/lib/sparknlp.jar\")\\\n",
    "    .getOrCreate()"
   ]
  },
  {
   "cell_type": "code",
   "execution_count": 2,
   "metadata": {},
   "outputs": [],
   "source": [
    "from sparknlp.annotator import *\n",
    "from sparknlp.base import *"
   ]
  },
  {
   "cell_type": "code",
   "execution_count": 3,
   "metadata": {},
   "outputs": [],
   "source": [
    "model_path = '/Users/dburbano/IdeaProjects/spark-nlp-models/tmp/clean_stop_words_en_1.8.0_2.4_1552606190617'\n",
    "pipeline = PipelineModel.load(model_path)\n",
    "spark_dataframe = spark.createDataFrame([['I saw a girl with a telescope']]).toDF(\"text\")"
   ]
  },
  {
   "cell_type": "code",
   "execution_count": 4,
   "metadata": {},
   "outputs": [
    {
     "name": "stdout",
     "output_type": "stream",
     "text": [
      "+-----------------------------+-------------------------------------+----------------------+\n",
      "|text                         |token                                |filtered              |\n",
      "+-----------------------------+-------------------------------------+----------------------+\n",
      "|I saw a girl with a telescope|[I, saw, a, girl, with, a, telescope]|[saw, girl, telescope]|\n",
      "+-----------------------------+-------------------------------------+----------------------+\n",
      "\n"
     ]
    }
   ],
   "source": [
    "result_df = pipeline.transform(spark_dataframe)\n",
    "result_df.show(1, False)"
   ]
  },
  {
   "cell_type": "code",
   "execution_count": 5,
   "metadata": {},
   "outputs": [],
   "source": [
    "from sparknlp.pretrained import PretrainedPipeline"
   ]
  },
  {
   "cell_type": "code",
   "execution_count": 6,
   "metadata": {},
   "outputs": [],
   "source": [
    "light_pipeline = LightPipeline(PipelineModel.load(model_path))"
   ]
  },
  {
   "cell_type": "code",
   "execution_count": 7,
   "metadata": {},
   "outputs": [],
   "source": [
    "result = light_pipeline.annotate('I saw a girl with a telescope')"
   ]
  }
 ],
 "metadata": {
  "kernelspec": {
   "display_name": "Python 3",
   "language": "python",
   "name": "python3"
  },
  "language_info": {
   "codemirror_mode": {
    "name": "ipython",
    "version": 3
   },
   "file_extension": ".py",
   "mimetype": "text/x-python",
   "name": "python",
   "nbconvert_exporter": "python",
   "pygments_lexer": "ipython3",
   "version": "3.6.4"
  }
 },
 "nbformat": 4,
 "nbformat_minor": 2
}
