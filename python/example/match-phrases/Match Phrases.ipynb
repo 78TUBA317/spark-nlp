{
 "cells": [
  {
   "cell_type": "markdown",
   "metadata": {},
   "source": [
    "### Match Phrases"
   ]
  },
  {
   "cell_type": "markdown",
   "metadata": {},
   "source": [
    "This pipeline matches phrases from a text"
   ]
  },
  {
   "cell_type": "code",
   "execution_count": 38,
   "metadata": {},
   "outputs": [],
   "source": [
    "import sparknlp"
   ]
  },
  {
   "cell_type": "code",
   "execution_count": 39,
   "metadata": {},
   "outputs": [],
   "source": [
    "from sparknlp.base import *"
   ]
  },
  {
   "cell_type": "code",
   "execution_count": 40,
   "metadata": {},
   "outputs": [],
   "source": [
    "model_path = '/models/match_phrases'\n",
    "pipeline = PipelineModel.load(model_path)\n",
    "spark_dataframe = spark.createDataFrame([['The most troublesome report may be the August merchandise trade deficit due out tomorrow']]).toDF(\"text\")"
   ]
  },
  {
   "cell_type": "code",
   "execution_count": 41,
   "metadata": {},
   "outputs": [
    {
     "name": "stdout",
     "output_type": "stream",
     "text": [
      "+---------------------------------------------------------------------------------------------------------------------------------------------------------------------------+\n",
      "|entity                                                                                                                                                                     |\n",
      "+---------------------------------------------------------------------------------------------------------------------------------------------------------------------------+\n",
      "|[[chunk, 9, 19, troublesome, [sentence -> 0], [], []], [chunk, 46, 62, merchandise trade, [sentence -> 0], [], []], [chunk, 76, 87, out tomorrow, [sentence -> 0], [], []]]|\n",
      "+---------------------------------------------------------------------------------------------------------------------------------------------------------------------------+\n",
      "\n"
     ]
    }
   ],
   "source": [
    "result_df = pipeline.transform(spark_dataframe)\n",
    "result_df.select('entity').show(1, False)"
   ]
  },
  {
   "cell_type": "code",
   "execution_count": 42,
   "metadata": {},
   "outputs": [],
   "source": [
    "from sparknlp.pretrained import PretrainedPipeline"
   ]
  },
  {
   "cell_type": "code",
   "execution_count": 43,
   "metadata": {},
   "outputs": [],
   "source": [
    "light_pipeline = LightPipeline(PipelineModel.load(model_path))"
   ]
  },
  {
   "cell_type": "code",
   "execution_count": 44,
   "metadata": {},
   "outputs": [],
   "source": [
    "result = light_pipeline.annotate('The most troublesome report may be the August merchandise trade deficit due out tomorrow')"
   ]
  }
 ],
 "metadata": {
  "kernelspec": {
   "display_name": "Python 3",
   "language": "python",
   "name": "python3"
  },
  "language_info": {
   "codemirror_mode": {
    "name": "ipython",
    "version": 3
   },
   "file_extension": ".py",
   "mimetype": "text/x-python",
   "name": "python",
   "nbconvert_exporter": "python",
   "pygments_lexer": "ipython3",
   "version": "3.6.4"
  }
 },
 "nbformat": 4,
 "nbformat_minor": 2
}
