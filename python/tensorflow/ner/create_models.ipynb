{
 "cells": [
  {
   "cell_type": "markdown",
   "metadata": {},
   "source": [
    "## Creates TensorFlow Graphs for Spark NLP NerDLApproach\n",
    "TensorFlow: `1.15.0`\n"
   ]
  },
  {
   "cell_type": "code",
   "execution_count": 5,
   "metadata": {},
   "outputs": [],
   "source": [
    "import numpy as np\n",
    "import os\n",
    "import tensorflow as tf\n",
    "import string\n",
    "import random\n",
    "import math\n",
    "import sys\n",
    "import shutil\n",
    "\n",
    "sys.path.append('../lib/ner')\n",
    "from ner_model import NerModel\n",
    "from dataset_encoder import DatasetEncoder\n",
    "from ner_model_saver import NerModelSaver\n",
    "from pathlib import Path"
   ]
  },
  {
   "cell_type": "code",
   "execution_count": 6,
   "metadata": {},
   "outputs": [
    {
     "name": "stdout",
     "output_type": "stream",
     "text": [
      "1.15.0\n",
      "2.2.4-tf\n"
     ]
    }
   ],
   "source": [
    "print(tf.__version__)\n",
    "print(tf.keras.__version__)\n",
    "tf.get_logger().setLevel('INFO')"
   ]
  },
  {
   "cell_type": "markdown",
   "metadata": {},
   "source": [
    "## SETTINGS"
   ]
  },
  {
   "cell_type": "code",
   "execution_count": 7,
   "metadata": {},
   "outputs": [],
   "source": [
    "# By default the first GPU is used, you can change it here\n",
    "gpu_device=0"
   ]
  },
  {
   "cell_type": "code",
   "execution_count": 8,
   "metadata": {
    "scrolled": true
   },
   "outputs": [],
   "source": [
    "def create_graph(ntags, embeddings_dim, nchars, lstm_size = 128):\n",
    "    name_prefix = 'blstm'\n",
    "    if sys.version_info[0] != 3 or sys.version_info[1] >= 7:\n",
    "        print('Python 3.6 or above not supported by tensorflow')\n",
    "        return\n",
    "    if tf.__version__ != '1.15.0':\n",
    "        print('Spark NLP is compiled with TensorFlow 1.13.1, Please use such version.')\n",
    "        print('Current TensorFlow version: ', tf.__version__)\n",
    "        return\n",
    "    tf.compat.v1.disable_v2_behavior()\n",
    "    tf.compat.v1.reset_default_graph()\n",
    "    model_name = name_prefix+'_{}_{}_{}_{}'.format(ntags, embeddings_dim, lstm_size, nchars)\n",
    "    with tf.compat.v1.Session() as session:\n",
    "        ner = NerModel(session=None, use_contrib=False, use_gpu_device=gpu_device)\n",
    "        ner.add_cnn_char_repr(nchars, 25, 30)\n",
    "        ner.add_bilstm_char_repr(nchars, 25, 30)\n",
    "        ner.add_pretrained_word_embeddings(embeddings_dim)\n",
    "        ner.add_context_repr(ntags, lstm_size, 3)\n",
    "        ner.add_inference_layer(True)\n",
    "        ner.add_training_op(5)\n",
    "        ner.init_variables()\n",
    "        saver = tf.compat.v1.train.Saver()\n",
    "        file_name = model_name + '.pb'\n",
    "        tf.io.write_graph(ner.session.graph, './', file_name, False)\n",
    "        ner.close()\n",
    "        session.close()"
   ]
  },
  {
   "cell_type": "markdown",
   "metadata": {},
   "source": [
    "### Attributes info\n",
    "- 1st attribute: max number of tags (Must be at least equal to the number of unique labels, including O if IOB)\n",
    "- 2nd attribute: embeddings dimension\n",
    "- 3rd attribute: max number of characters processed (Must be at least the largest possible amount of characters)\n",
    "- 4th attribute: LSTM Size (128)"
   ]
  },
  {
   "cell_type": "code",
   "execution_count": 9,
   "metadata": {
    "scrolled": true
   },
   "outputs": [
    {
     "name": "stdout",
     "output_type": "stream",
     "text": [
      "WARNING:tensorflow:From /Users/maziyar/anaconda3/envs/tf115/lib/python3.6/site-packages/tensorflow_core/python/compat/v2_compat.py:68: disable_resource_variables (from tensorflow.python.ops.variable_scope) is deprecated and will be removed in a future version.\n",
      "Instructions for updating:\n",
      "non-resource variables are not supported in the long term\n",
      "Device mapping:\n",
      "/job:localhost/replica:0/task:0/device:XLA_CPU:0 -> device: XLA_CPU device\n",
      "\n",
      "WARNING:tensorflow:From /Users/maziyar/anaconda3/envs/tf115/lib/python3.6/site-packages/tensorflow_core/python/ops/resource_variable_ops.py:1630: calling BaseResourceVariable.__init__ (from tensorflow.python.ops.resource_variable_ops) with constraint is deprecated and will be removed in a future version.\n",
      "Instructions for updating:\n",
      "If using Keras pass *_constraint arguments to layers.\n",
      "WARNING:tensorflow:From /Users/maziyar/anaconda3/envs/tf115/lib/python3.6/site-packages/tensorflow_core/python/ops/init_ops.py:97: calling GlorotUniform.__init__ (from tensorflow.python.ops.init_ops) with dtype is deprecated and will be removed in a future version.\n",
      "Instructions for updating:\n",
      "Call initializer instance with the dtype argument instead of passing it to the constructor\n",
      "WARNING:tensorflow:From /Users/maziyar/anaconda3/envs/tf115/lib/python3.6/site-packages/tensorflow_core/python/ops/init_ops.py:97: calling Orthogonal.__init__ (from tensorflow.python.ops.init_ops) with dtype is deprecated and will be removed in a future version.\n",
      "Instructions for updating:\n",
      "Call initializer instance with the dtype argument instead of passing it to the constructor\n",
      "WARNING:tensorflow:From /Users/maziyar/anaconda3/envs/tf115/lib/python3.6/site-packages/tensorflow_core/python/ops/init_ops.py:97: calling Zeros.__init__ (from tensorflow.python.ops.init_ops) with dtype is deprecated and will be removed in a future version.\n",
      "Instructions for updating:\n",
      "Call initializer instance with the dtype argument instead of passing it to the constructor\n",
      "WARNING:tensorflow:From /Users/maziyar/anaconda3/envs/tf115/lib/python3.6/site-packages/tensorflow_core/python/keras/backend.py:3994: where (from tensorflow.python.ops.array_ops) is deprecated and will be removed in a future version.\n",
      "Instructions for updating:\n",
      "Use tf.where in 2.0, which has the same broadcast rule as np.where\n",
      "WARNING:tensorflow:\n",
      "The TensorFlow contrib module will not be included in TensorFlow 2.0.\n",
      "For more information, please see:\n",
      "  * https://github.com/tensorflow/community/blob/master/rfcs/20180907-contrib-sunset.md\n",
      "  * https://github.com/tensorflow/addons\n",
      "  * https://github.com/tensorflow/io (for I/O related ops)\n",
      "If you depend on functionality not listed there, please file an issue.\n",
      "\n",
      "WARNING:tensorflow:From /Users/maziyar/anaconda3/envs/tf115/lib/python3.6/site-packages/tensorflow_core/contrib/crf/python/ops/crf.py:213: dynamic_rnn (from tensorflow.python.ops.rnn) is deprecated and will be removed in a future version.\n",
      "Instructions for updating:\n",
      "Please use `keras.layers.RNN(cell)`, which is equivalent to this API\n",
      "Device mapping:\n",
      "/job:localhost/replica:0/task:0/device:XLA_CPU:0 -> device: XLA_CPU device\n",
      "\n",
      "Device mapping:\n",
      "/job:localhost/replica:0/task:0/device:XLA_CPU:0 -> device: XLA_CPU device\n",
      "\n",
      "Device mapping:\n",
      "/job:localhost/replica:0/task:0/device:XLA_CPU:0 -> device: XLA_CPU device\n",
      "\n",
      "Device mapping:\n",
      "/job:localhost/replica:0/task:0/device:XLA_CPU:0 -> device: XLA_CPU device\n",
      "\n",
      "Device mapping:\n",
      "/job:localhost/replica:0/task:0/device:XLA_CPU:0 -> device: XLA_CPU device\n",
      "\n",
      "Device mapping:\n",
      "/job:localhost/replica:0/task:0/device:XLA_CPU:0 -> device: XLA_CPU device\n",
      "\n",
      "Device mapping:\n",
      "/job:localhost/replica:0/task:0/device:XLA_CPU:0 -> device: XLA_CPU device\n",
      "\n"
     ]
    }
   ],
   "source": [
    "# # CoNLL 2003 - English - GloVe 100d\n",
    "# create_graph(9, 100, 90)\n",
    "\n",
    "# # CoNLL 2003 - English - GloVe 200d\n",
    "# create_graph(9, 200, 90)\n",
    "\n",
    "# # CoNLL 2003 - English - GloVe 300d\n",
    "# create_graph(9, 300, 90)\n",
    "\n",
    "# # CoNLL 2003 - English - BERT Base\n",
    "# create_graph(9, 768, 90)\n",
    "\n",
    "# # CoNLL 2003 - English - BERT Large\n",
    "# create_graph(9, 1024, 90)\n",
    "\n",
    "# # You got the idea :)\n",
    "create_graph(10, 100, 100)\n",
    "create_graph(10, 300, 100)\n",
    "create_graph(10, 768, 100)\n",
    "create_graph(10, 1024, 100)\n",
    "create_graph(25, 100, 100)\n",
    "create_graph(25, 300, 100)\n",
    "create_graph(30, 100, 100)\n",
    "create_graph(30, 300, 100)\n",
    "\n"
   ]
  },
  {
   "cell_type": "code",
   "execution_count": null,
   "metadata": {},
   "outputs": [],
   "source": [
    "os._exit(00)"
   ]
  },
  {
   "cell_type": "code",
   "execution_count": null,
   "metadata": {},
   "outputs": [],
   "source": []
  }
 ],
 "metadata": {
  "anaconda-cloud": {},
  "kernelspec": {
   "display_name": "Python 3",
   "language": "python",
   "name": "python3"
  },
  "language_info": {
   "codemirror_mode": {
    "name": "ipython",
    "version": 3
   },
   "file_extension": ".py",
   "mimetype": "text/x-python",
   "name": "python",
   "nbconvert_exporter": "python",
   "pygments_lexer": "ipython3",
   "version": "3.6.9"
  }
 },
 "nbformat": 4,
 "nbformat_minor": 1
}
